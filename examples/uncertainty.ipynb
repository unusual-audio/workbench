{
 "cells": [
  {
   "cell_type": "code",
   "id": "initial_id",
   "metadata": {
    "collapsed": true,
    "ExecuteTime": {
     "end_time": "2024-12-26T16:03:24.570538Z",
     "start_time": "2024-12-26T16:03:24.560312Z"
    }
   },
   "source": [
    "import numpy as np\n",
    "import pandas as pd\n",
    "from matplotlib import pyplot as plt\n",
    "\n",
    "from workbench.utils import get_type_a_uncertainty, get_type_b_uncertainty, get_expanded_uncertainty, format_timedelta\n",
    "from workbench.utils import get_type_b_uncertainties, get_expanded_uncertainties\n",
    "\n",
    "test_data = np.genfromtxt(\"test-data.csv\", delimiter=\",\", skip_header=1, dtype=[\n",
    "    ('timestamp', 'datetime64[ms]'),\n",
    "    ('voltage', 'float64'),\n",
    "    ('system_temperature', 'float64'),\n",
    "])"
   ],
   "outputs": [],
   "execution_count": 5
  },
  {
   "metadata": {
    "ExecuteTime": {
     "end_time": "2024-12-26T16:03:24.579927Z",
     "start_time": "2024-12-26T16:03:24.574317Z"
    }
   },
   "cell_type": "code",
   "source": [
    "from workbench.utils import format_voltage\n",
    "\n",
    "pd.DataFrame([\n",
    "    [\"Sample size\", len(test_data)],\n",
    "    [\"Start\", test_data[\"timestamp\"].min()],\n",
    "    [\"End\", test_data[\"timestamp\"].max()],\n",
    "    [\"Duration\", format_timedelta(test_data[\"timestamp\"][-1] - test_data[\"timestamp\"][0])],\n",
    "    [\"Min\", format_voltage(test_data[\"voltage\"].min(), precision=7)],\n",
    "    [\"Max\", format_voltage(test_data[\"voltage\"].max(), precision=7)],\n",
    "    [\"Mean\", format_voltage(test_data[\"voltage\"].mean(), precision=7)],\n",
    "    [\"Sample standard deviation\", format_voltage(test_data[\"voltage\"].std(ddof=1))],\n",
    "], columns=[\"\", \"Measurements\"])"
   ],
   "id": "74bcabe1cc7c7024",
   "outputs": [
    {
     "data": {
      "text/plain": [
       "                                             Measurements\n",
       "0                Sample size                         5259\n",
       "1                      Start      2024-12-24T00:00:01.686\n",
       "2                        End      2024-12-24T05:59:59.253\n",
       "3                   Duration  0 days, 5 hours, 59 minutes\n",
       "4                        Min                  4.9981939 V\n",
       "5                        Max                  4.9981985 V\n",
       "6                       Mean                  4.9981962 V\n",
       "7  Sample standard deviation                     642.2 nV"
      ],
      "text/html": [
       "<div>\n",
       "<style scoped>\n",
       "    .dataframe tbody tr th:only-of-type {\n",
       "        vertical-align: middle;\n",
       "    }\n",
       "\n",
       "    .dataframe tbody tr th {\n",
       "        vertical-align: top;\n",
       "    }\n",
       "\n",
       "    .dataframe thead th {\n",
       "        text-align: right;\n",
       "    }\n",
       "</style>\n",
       "<table border=\"1\" class=\"dataframe\">\n",
       "  <thead>\n",
       "    <tr style=\"text-align: right;\">\n",
       "      <th></th>\n",
       "      <th></th>\n",
       "      <th>Measurements</th>\n",
       "    </tr>\n",
       "  </thead>\n",
       "  <tbody>\n",
       "    <tr>\n",
       "      <th>0</th>\n",
       "      <td>Sample size</td>\n",
       "      <td>5259</td>\n",
       "    </tr>\n",
       "    <tr>\n",
       "      <th>1</th>\n",
       "      <td>Start</td>\n",
       "      <td>2024-12-24T00:00:01.686</td>\n",
       "    </tr>\n",
       "    <tr>\n",
       "      <th>2</th>\n",
       "      <td>End</td>\n",
       "      <td>2024-12-24T05:59:59.253</td>\n",
       "    </tr>\n",
       "    <tr>\n",
       "      <th>3</th>\n",
       "      <td>Duration</td>\n",
       "      <td>0 days, 5 hours, 59 minutes</td>\n",
       "    </tr>\n",
       "    <tr>\n",
       "      <th>4</th>\n",
       "      <td>Min</td>\n",
       "      <td>4.9981939 V</td>\n",
       "    </tr>\n",
       "    <tr>\n",
       "      <th>5</th>\n",
       "      <td>Max</td>\n",
       "      <td>4.9981985 V</td>\n",
       "    </tr>\n",
       "    <tr>\n",
       "      <th>6</th>\n",
       "      <td>Mean</td>\n",
       "      <td>4.9981962 V</td>\n",
       "    </tr>\n",
       "    <tr>\n",
       "      <th>7</th>\n",
       "      <td>Sample standard deviation</td>\n",
       "      <td>642.2 nV</td>\n",
       "    </tr>\n",
       "  </tbody>\n",
       "</table>\n",
       "</div>"
      ]
     },
     "execution_count": 6,
     "metadata": {},
     "output_type": "execute_result"
    }
   ],
   "execution_count": 6
  },
  {
   "metadata": {
    "ExecuteTime": {
     "end_time": "2024-12-26T16:03:24.608642Z",
     "start_time": "2024-12-26T16:03:24.604364Z"
    }
   },
   "cell_type": "code",
   "source": [
    "type_a_uncertainty = get_type_a_uncertainty(test_data[\"voltage\"])\n",
    "expanded_type_b_uncertainties = abs(test_data[\"voltage\"]) * 50e-6 + 10 * 5e-6\n",
    "type_b_uncertainty = get_type_b_uncertainty(expanded_type_b_uncertainties, k=2)\n",
    "expanded_uncertainty = get_expanded_uncertainty(type_a_uncertainty, type_b_uncertainty, k=2)\n",
    "\n",
    "pd.DataFrame([\n",
    "    [\"Mean\", format_voltage(test_data[\"voltage\"].mean(), precision=7)],\n",
    "    [\"Type A uncertainty (standard error of mean)\", format_voltage(type_a_uncertainty)],\n",
    "    [\"Type B uncertainty (Keysight 34461A, 10 V, 2-year spec)\", format_voltage(type_b_uncertainty)],\n",
    "    [\"Expanded uncertainty (k=2)\", format_voltage(expanded_uncertainty)],\n",
    "], columns=[\"\", \"Voltage\"])"
   ],
   "id": "471862a1a4cca927",
   "outputs": [
    {
     "data": {
      "text/plain": [
       "                                                          Voltage\n",
       "0                                               Mean  4.9981962 V\n",
       "1        Type A uncertainty (standard error of mean)       8.9 nV\n",
       "2  Type B uncertainty (Keysight 34461A, 10 V, 2-y...     150.0 µV\n",
       "3                         Expanded uncertainty (k=2)     299.9 µV"
      ],
      "text/html": [
       "<div>\n",
       "<style scoped>\n",
       "    .dataframe tbody tr th:only-of-type {\n",
       "        vertical-align: middle;\n",
       "    }\n",
       "\n",
       "    .dataframe tbody tr th {\n",
       "        vertical-align: top;\n",
       "    }\n",
       "\n",
       "    .dataframe thead th {\n",
       "        text-align: right;\n",
       "    }\n",
       "</style>\n",
       "<table border=\"1\" class=\"dataframe\">\n",
       "  <thead>\n",
       "    <tr style=\"text-align: right;\">\n",
       "      <th></th>\n",
       "      <th></th>\n",
       "      <th>Voltage</th>\n",
       "    </tr>\n",
       "  </thead>\n",
       "  <tbody>\n",
       "    <tr>\n",
       "      <th>0</th>\n",
       "      <td>Mean</td>\n",
       "      <td>4.9981962 V</td>\n",
       "    </tr>\n",
       "    <tr>\n",
       "      <th>1</th>\n",
       "      <td>Type A uncertainty (standard error of mean)</td>\n",
       "      <td>8.9 nV</td>\n",
       "    </tr>\n",
       "    <tr>\n",
       "      <th>2</th>\n",
       "      <td>Type B uncertainty (Keysight 34461A, 10 V, 2-y...</td>\n",
       "      <td>150.0 µV</td>\n",
       "    </tr>\n",
       "    <tr>\n",
       "      <th>3</th>\n",
       "      <td>Expanded uncertainty (k=2)</td>\n",
       "      <td>299.9 µV</td>\n",
       "    </tr>\n",
       "  </tbody>\n",
       "</table>\n",
       "</div>"
      ]
     },
     "execution_count": 7,
     "metadata": {},
     "output_type": "execute_result"
    }
   ],
   "execution_count": 7
  },
  {
   "metadata": {
    "ExecuteTime": {
     "end_time": "2024-12-26T16:03:24.715506Z",
     "start_time": "2024-12-26T16:03:24.646547Z"
    }
   },
   "cell_type": "code",
   "source": [
    "from matplotlib.ticker import FuncFormatter\n",
    "\n",
    "fig, ax1 = plt.subplots()\n",
    "\n",
    "type_a_uncertainty = get_type_a_uncertainty(test_data[\"voltage\"])\n",
    "expanded_type_b_uncertainties = abs(test_data[\"voltage\"]) * 50e-6 + 10 * 5e-6\n",
    "type_b_uncertainties = get_type_b_uncertainties(expanded_type_b_uncertainties, k=2)\n",
    "expanded_uncertainties = get_expanded_uncertainties(type_a_uncertainty, type_b_uncertainty, k=2)\n",
    "\n",
    "ax1.yaxis.set_major_formatter(\n",
    "    FuncFormatter(lambda x, pos: format_voltage(x, precision=4)))\n",
    "ax1.scatter(test_data[\"timestamp\"], test_data[\"voltage\"], s=0.2)\n",
    "\n",
    "ax1.plot(test_data[\"timestamp\"], test_data[\"voltage\"] - expanded_uncertainties, color=\"red\", label=f\"Expanded uncertainty\")\n",
    "ax1.plot(test_data[\"timestamp\"], test_data[\"voltage\"] + expanded_uncertainties, color=\"red\")\n",
    "\n",
    "plt.show()"
   ],
   "id": "d95274e78f72c653",
   "outputs": [
    {
     "data": {
      "text/plain": [
       "<Figure size 640x480 with 1 Axes>"
      ],
      "image/png": "[encoded data removed]"
     },
     "metadata": {},
     "output_type": "display_data"
    }
   ],
   "execution_count": 8
  }
 ],
 "metadata": {
  "kernelspec": {
   "display_name": "Python 3",
   "language": "python",
   "name": "python3"
  },
  "language_info": {
   "codemirror_mode": {
    "name": "ipython",
    "version": 2
   },
   "file_extension": ".py",
   "mimetype": "text/x-python",
   "name": "python",
   "nbconvert_exporter": "python",
   "pygments_lexer": "ipython2",
   "version": "2.7.6"
  }
 },
 "nbformat": 4,
 "nbformat_minor": 5
}
