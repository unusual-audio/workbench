{
 "cells": [
  {
   "metadata": {},
   "cell_type": "markdown",
   "source": [
    "# Uncertainty Analysis Example\n",
    "\n",
    "This notebook demonstrates how to calculate and visualize measurement uncertainty for voltage readings following the GUM (Guide to the Expression of Uncertainty in Measurement) methodology."
   ],
   "id": "6dab423c86153566"
  },
  {
   "metadata": {
    "ExecuteTime": {
     "end_time": "2025-05-17T15:27:02.938737Z",
     "start_time": "2025-05-17T15:27:02.930293Z"
    }
   },
   "cell_type": "code",
   "source": [
    "import numpy as np\n",
    "import pandas as pd\n",
    "from matplotlib import pyplot as plt\n",
    "\n",
    "# Import utility functions for uncertainty calculations\n",
    "from workbench.utils import get_type_a_uncertainty, get_type_b_uncertainty, get_expanded_uncertainty, format_timedelta\n",
    "from workbench.utils import get_type_b_uncertainties, get_expanded_uncertainties\n",
    "\n",
    "# Load test data from CSV file\n",
    "# The dataset contains voltage measurements taken over time with corresponding system temperature\n",
    "test_data = np.genfromtxt(\"test-data.csv\", delimiter=\",\", skip_header=1, dtype=[\n",
    "    ('timestamp', 'datetime64[ms]'),  # Timestamp of each measurement\n",
    "    ('voltage', 'float64'),           # Voltage readings in volts\n",
    "    ('system_temperature', 'float64'),# System temperature in degrees Celsius\n",
    "])"
   ],
   "id": "99b54bea0758ceb1",
   "outputs": [],
   "execution_count": 23
  },
  {
   "metadata": {},
   "cell_type": "markdown",
   "source": [
    "## Data Summary\n",
    "\n",
    "First, we analyze the basic statistical properties of our measurement dataset to understand its characteristics and quality."
   ],
   "id": "f6fff0a5556b2f46"
  },
  {
   "metadata": {
    "ExecuteTime": {
     "end_time": "2025-05-17T15:27:02.955042Z",
     "start_time": "2025-05-17T15:27:02.950756Z"
    }
   },
   "cell_type": "code",
   "source": [
    "from workbench.utils import format_voltage\n",
    "\n",
    "# Create a summary table with key statistics about the measurements\n",
    "# This helps assess the stability and overall behavior of the measured voltage\n",
    "pd.DataFrame([\n",
    "    [\"Sample size\", len(test_data)],                                                      # Number of measurements\n",
    "    [\"Start\", test_data[\"timestamp\"].min()],                                              # First measurement time\n",
    "    [\"End\", test_data[\"timestamp\"].max()],                                                # Last measurement time\n",
    "    [\"Duration\", format_timedelta(test_data[\"timestamp\"][-1] - test_data[\"timestamp\"][0])], # Total measurement duration\n",
    "    [\"Min\", format_voltage(test_data[\"voltage\"].min(), precision=7)],                     # Minimum voltage value\n",
    "    [\"Max\", format_voltage(test_data[\"voltage\"].max(), precision=7)],                     # Maximum voltage value\n",
    "    [\"Mean\", format_voltage(test_data[\"voltage\"].mean(), precision=7)],                   # Mean voltage value\n",
    "    [\"Sample standard deviation\", format_voltage(test_data[\"voltage\"].std(ddof=1))],      # Standard deviation (n-1)\n",
    "], columns=[\"\", \"Measurements\"])"
   ],
   "id": "8920a30a7a6cc22d",
   "outputs": [
    {
     "data": {
      "text/plain": [
       "                                             Measurements\n",
       "0                Sample size                         5259\n",
       "1                      Start      2024-12-24T00:00:01.686\n",
       "2                        End      2024-12-24T05:59:59.253\n",
       "3                   Duration  0 days, 5 hours, 59 minutes\n",
       "4                        Min                  4.9981939 V\n",
       "5                        Max                  4.9981985 V\n",
       "6                       Mean                  4.9981962 V\n",
       "7  Sample standard deviation                     642.2 nV"
      ],
      "text/html": [
       "<div>\n",
       "<style scoped>\n",
       "    .dataframe tbody tr th:only-of-type {\n",
       "        vertical-align: middle;\n",
       "    }\n",
       "\n",
       "    .dataframe tbody tr th {\n",
       "        vertical-align: top;\n",
       "    }\n",
       "\n",
       "    .dataframe thead th {\n",
       "        text-align: right;\n",
       "    }\n",
       "</style>\n",
       "<table border=\"1\" class=\"dataframe\">\n",
       "  <thead>\n",
       "    <tr style=\"text-align: right;\">\n",
       "      <th></th>\n",
       "      <th></th>\n",
       "      <th>Measurements</th>\n",
       "    </tr>\n",
       "  </thead>\n",
       "  <tbody>\n",
       "    <tr>\n",
       "      <th>0</th>\n",
       "      <td>Sample size</td>\n",
       "      <td>5259</td>\n",
       "    </tr>\n",
       "    <tr>\n",
       "      <th>1</th>\n",
       "      <td>Start</td>\n",
       "      <td>2024-12-24T00:00:01.686</td>\n",
       "    </tr>\n",
       "    <tr>\n",
       "      <th>2</th>\n",
       "      <td>End</td>\n",
       "      <td>2024-12-24T05:59:59.253</td>\n",
       "    </tr>\n",
       "    <tr>\n",
       "      <th>3</th>\n",
       "      <td>Duration</td>\n",
       "      <td>0 days, 5 hours, 59 minutes</td>\n",
       "    </tr>\n",
       "    <tr>\n",
       "      <th>4</th>\n",
       "      <td>Min</td>\n",
       "      <td>4.9981939 V</td>\n",
       "    </tr>\n",
       "    <tr>\n",
       "      <th>5</th>\n",
       "      <td>Max</td>\n",
       "      <td>4.9981985 V</td>\n",
       "    </tr>\n",
       "    <tr>\n",
       "      <th>6</th>\n",
       "      <td>Mean</td>\n",
       "      <td>4.9981962 V</td>\n",
       "    </tr>\n",
       "    <tr>\n",
       "      <th>7</th>\n",
       "      <td>Sample standard deviation</td>\n",
       "      <td>642.2 nV</td>\n",
       "    </tr>\n",
       "  </tbody>\n",
       "</table>\n",
       "</div>"
      ]
     },
     "execution_count": 24,
     "metadata": {},
     "output_type": "execute_result"
    }
   ],
   "execution_count": 24
  },
  {
   "metadata": {},
   "cell_type": "markdown",
   "source": [
    "## Uncertainty Calculation\n",
    "\n",
    "Following the GUM methodology, we calculate both Type A and Type B uncertainties, then combine them to determine the expanded uncertainty."
   ],
   "id": "7cb8d2307ced2af6"
  },
  {
   "metadata": {
    "ExecuteTime": {
     "end_time": "2025-05-17T15:27:02.992123Z",
     "start_time": "2025-05-17T15:27:02.987742Z"
    }
   },
   "cell_type": "code",
   "source": [
    "# Type A uncertainty - derived from statistical analysis of the measurement series\n",
    "# Calculated as the standard error of the mean (s/√n)\n",
    "type_a_uncertainty = get_type_a_uncertainty(test_data[\"voltage\"])\n",
    "\n",
    "# Type B uncertainty - derived from instrument specifications\n",
    "# For Keysight 34461A DMM, the 2-year DC voltage accuracy specification for 10V range is:\n",
    "# ±(50 ppm of reading + 5 ppm of range)\n",
    "# We convert this to expanded uncertainty values for each measurement\n",
    "expanded_type_b_uncertainties = abs(test_data[\"voltage\"]) * 50e-6 + 10 * 5e-6  # 10V range\n",
    "\n",
    "# Convert expanded Type B uncertainties to standard uncertainty (divide by coverage factor k)\n",
    "# Then calculate the root sum square to get a single Type B uncertainty value\n",
    "type_b_uncertainty = get_type_b_uncertainty(expanded_type_b_uncertainties, k=2)\n",
    "\n",
    "# Calculate expanded uncertainty by combining Type A and Type B uncertainties\n",
    "# using the root sum square method, then multiplying by coverage factor k=2 (95% confidence)\n",
    "expanded_uncertainty = get_expanded_uncertainty(type_a_uncertainty, type_b_uncertainty, k=2)\n",
    "\n",
    "# Display the uncertainty budget\n",
    "pd.DataFrame([\n",
    "    [\"Mean\", format_voltage(test_data[\"voltage\"].mean(), precision=7)],\n",
    "    [\"Type A uncertainty (standard error of mean)\", format_voltage(type_a_uncertainty)],\n",
    "    [\"Type B uncertainty (Keysight 34461A, 10 V, 2-year spec)\", format_voltage(type_b_uncertainty)],\n",
    "    [\"Expanded uncertainty (k=2)\", format_voltage(expanded_uncertainty)],\n",
    "], columns=[\"\", \"Voltage\"])"
   ],
   "id": "c8b58cbd665d9ca0",
   "outputs": [
    {
     "data": {
      "text/plain": [
       "                                                          Voltage\n",
       "0                                               Mean  4.9981962 V\n",
       "1        Type A uncertainty (standard error of mean)       8.9 nV\n",
       "2  Type B uncertainty (Keysight 34461A, 10 V, 2-y...     150.0 µV\n",
       "3                         Expanded uncertainty (k=2)     299.9 µV"
      ],
      "text/html": [
       "<div>\n",
       "<style scoped>\n",
       "    .dataframe tbody tr th:only-of-type {\n",
       "        vertical-align: middle;\n",
       "    }\n",
       "\n",
       "    .dataframe tbody tr th {\n",
       "        vertical-align: top;\n",
       "    }\n",
       "\n",
       "    .dataframe thead th {\n",
       "        text-align: right;\n",
       "    }\n",
       "</style>\n",
       "<table border=\"1\" class=\"dataframe\">\n",
       "  <thead>\n",
       "    <tr style=\"text-align: right;\">\n",
       "      <th></th>\n",
       "      <th></th>\n",
       "      <th>Voltage</th>\n",
       "    </tr>\n",
       "  </thead>\n",
       "  <tbody>\n",
       "    <tr>\n",
       "      <th>0</th>\n",
       "      <td>Mean</td>\n",
       "      <td>4.9981962 V</td>\n",
       "    </tr>\n",
       "    <tr>\n",
       "      <th>1</th>\n",
       "      <td>Type A uncertainty (standard error of mean)</td>\n",
       "      <td>8.9 nV</td>\n",
       "    </tr>\n",
       "    <tr>\n",
       "      <th>2</th>\n",
       "      <td>Type B uncertainty (Keysight 34461A, 10 V, 2-y...</td>\n",
       "      <td>150.0 µV</td>\n",
       "    </tr>\n",
       "    <tr>\n",
       "      <th>3</th>\n",
       "      <td>Expanded uncertainty (k=2)</td>\n",
       "      <td>299.9 µV</td>\n",
       "    </tr>\n",
       "  </tbody>\n",
       "</table>\n",
       "</div>"
      ]
     },
     "execution_count": 25,
     "metadata": {},
     "output_type": "execute_result"
    }
   ],
   "execution_count": 25
  },
  {
   "metadata": {},
   "cell_type": "markdown",
   "source": [
    "## Visualization of Measurements with Uncertainty\n",
    "\n",
    "This section plots the voltage measurements over time with their associated uncertainty bands to provide a visual representation of the measurement quality"
   ],
   "id": "49f316ce8f97c3cd"
  },
  {
   "metadata": {
    "ExecuteTime": {
     "end_time": "2025-05-17T15:27:03.082605Z",
     "start_time": "2025-05-17T15:27:03.033151Z"
    }
   },
   "cell_type": "code",
   "source": [
    "from matplotlib.ticker import FuncFormatter\n",
    "\n",
    "fig, ax1 = plt.subplots()\n",
    "\n",
    "# Recalculate uncertainties for visualization\n",
    "# For each measurement point, we need its specific uncertainty\n",
    "type_a_uncertainty = get_type_a_uncertainty(test_data[\"voltage\"])\n",
    "expanded_type_b_uncertainties = abs(test_data[\"voltage\"]) * 50e-6 + 10 * 5e-6\n",
    "type_b_uncertainties = get_type_b_uncertainties(expanded_type_b_uncertainties, k=2)\n",
    "\n",
    "# Calculate expanded uncertainties for each measurement point\n",
    "# Note: Unlike the single value calculated earlier, here we need an uncertainty value for each data point\n",
    "expanded_uncertainties = get_expanded_uncertainties(type_a_uncertainty, type_b_uncertainties, k=2)\n",
    "\n",
    "# Format y-axis to display voltage values with proper units\n",
    "ax1.yaxis.set_major_formatter(\n",
    "    FuncFormatter(lambda x, pos: format_voltage(x, precision=4)))\n",
    "\n",
    "# Plot the voltage measurements as scatter points\n",
    "ax1.scatter(test_data[\"timestamp\"], test_data[\"voltage\"], s=2, label=\"Measured voltage\")\n",
    "\n",
    "# Plot the uncertainty bands (measurement ± expanded uncertainty)\n",
    "# These red lines represent the 95% confidence interval (k=2) for the true value\n",
    "ax1.plot(test_data[\"timestamp\"], test_data[\"voltage\"] - expanded_uncertainties, color=\"red\", label=f\"Expanded uncertainty\")\n",
    "ax1.plot(test_data[\"timestamp\"], test_data[\"voltage\"] + expanded_uncertainties, color=\"red\")\n",
    "\n",
    "# Calculate the min and max values for y-axis with added padding\n",
    "voltage_min = test_data[\"voltage\"].min() - expanded_uncertainties.max() * 2\n",
    "voltage_max = test_data[\"voltage\"].max() + expanded_uncertainties.max() * 2\n",
    "\n",
    "# Set y-axis limits to provide more space around minima and maxima\n",
    "ax1.set_ylim(voltage_min, voltage_max)\n",
    "\n",
    "# Add a legend to identify the uncertainty bands and position it in the upper right corner\n",
    "ax1.legend(loc='upper right')\n",
    "\n",
    "plt.show()"
   ],
   "id": "579713aa25a32eb2",
   "outputs": [
    {
     "data": {
      "text/plain": [
       "<Figure size 640x480 with 1 Axes>"
      ],
      "image/png": "[encoded data removed]"
     },
     "metadata": {},
     "output_type": "display_data"
    }
   ],
   "execution_count": 26
  }
 ],
 "metadata": {
  "kernelspec": {
   "display_name": "Python 3",
   "language": "python",
   "name": "python3"
  },
  "language_info": {
   "codemirror_mode": {
    "name": "ipython",
    "version": 2
   },
   "file_extension": ".py",
   "mimetype": "text/x-python",
   "name": "python",
   "nbconvert_exporter": "python",
   "pygments_lexer": "ipython2",
   "version": "2.7.6"
  }
 },
 "nbformat": 4,
 "nbformat_minor": 5
}
